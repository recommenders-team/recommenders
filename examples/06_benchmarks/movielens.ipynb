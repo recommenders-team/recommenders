{
    "cells": [
        {
            "cell_type": "markdown",
            "metadata": {},
            "source": [
                "<i>Copyright (c) Recommenders contributors.</i>\n",
                "\n",
                "<i>Licensed under the MIT License.</i>"
            ]
        },
        {
            "cell_type": "markdown",
            "metadata": {},
            "source": [
                "# Benchmark with Movielens dataset\n",
                "\n",
                "This illustrative comparison applies to collaborative filtering algorithms available in this repository such as Spark ALS, Surprise SVD, SAR and others using the Movielens dataset. These algorithms are usable in a variety of recommendation tasks, including product or news recommendations.\n",
                "\n",
                "The main purpose of this notebook is not to produce comprehensive benchmarking results on multiple datasets. Rather, it is intended to illustrate on how one could evaluate different recommender algorithms using tools in this repository.\n",
                "\n",
                "## Experimentation setup:\n",
                "\n",
                "* Objective\n",
                "  * To compare how each collaborative filtering algorithm perform in predicting ratings and recommending relevant items.\n",
                "\n",
                "* Environment\n",
                "  * The comparison is run on a [Azure Data Science Virtual Machine](https://azure.microsoft.com/en-us/services/virtual-machines/data-science-virtual-machines/). \n",
                "  * The virtual machine size is a [Standard_NC6s_v2](https://learn.microsoft.com/es-es/azure/virtual-machines/ncv2-series) with 6 CPUs, 112Gb of RAM, and 1 GPU NVIDIA Tesla P100 with 16Gb of memory.\n",
                "  * It should be noted that the single node DSVM is not supposed to run scalable benchmarking analysis. Either scaling up or out the computing instances is necessary to run the benchmarking in an run-time efficient way without any memory issue.\n",
                "  * **NOTE ABOUT THE DEPENDENCIES TO INSTALL**: This notebook uses CPU, GPU and PySpark algorithms, so make sure you install the `full environment` as detailed in the [SETUP.md](../../SETUP.md). \n",
                "  \n",
                "* Datasets\n",
                "  * [Movielens 100K](https://grouplens.org/datasets/movielens/100k/).\n",
                "  * [Movielens 1M](https://grouplens.org/datasets/movielens/1m/).\n",
                "\n",
                "* Data split\n",
                "  * The data is split into train and test sets.\n",
                "  * The split ratios are 75-25 for train and test datasets.\n",
                "  * The splitting is stratified based on items. \n",
                "\n",
                "* Model training\n",
                "  * A recommendation model is trained by using each of the collaborative filtering algorithms. \n",
                "  * Empirical parameter values reported [here](http://mymedialite.net/examples/datasets.html) are used in this notebook.  More exhaustive hyper parameter tuning would be required to further optimize results.\n",
                "\n",
                "* Evaluation metrics\n",
                "  * Ranking metrics:\n",
                "    * Precision@k.\n",
                "    * Recall@k.\n",
                "    * Normalized discounted cumulative gain@k (NDCG@k).\n",
                "    * Mean-average-precision (MAP). \n",
                "    * In the evaluation metrics above, k = 10. \n",
                "  * Rating metrics:\n",
                "    * Root mean squared error (RMSE).\n",
                "    * Mean average error (MAE).\n",
                "    * R squared.\n",
                "    * Explained variance.\n",
                "  * Run time performance\n",
                "    * Elapsed for training a model and using a model for predicting/recommending k items. \n",
                "    * The time may vary across different machines. "
            ]
        },
        {
            "cell_type": "markdown",
            "metadata": {},
            "source": [
                "## Globals settings"
            ]
        },
        {
            "cell_type": "code",
            "execution_count": 1,
            "metadata": {},
            "outputs": [],
            "source": [
                "import warnings\n",
                "warnings.filterwarnings(\"ignore\")\n",
                "import logging\n",
                "logging.basicConfig(level=logging.ERROR) "
            ]
        },
        {
            "cell_type": "code",
            "execution_count": 2,
            "metadata": {},
            "outputs": [
                {
                    "name": "stdout",
                    "output_type": "stream",
                    "text": [
                        "System version: 3.11.11 (main, Dec 11 2024, 16:28:39) [GCC 11.2.0]\n",
                        "Number of cores: 8\n",
                        "NumPy version: 1.26.4\n",
                        "Pandas version: 2.2.2\n",
                        "Surprise version: 1.1.4\n",
                        "Cornac version: 2.2.2\n",
                        "PySpark version: 3.5.1\n",
                        "CUDA version: 12.1\n",
                        "CuDNN version: 8902\n",
                        "TensorFlow version: 2.15.1\n",
                        "PyTorch version: 2.3.1+cu121\n",
                        "Fast AI version: 2.7.15\n"
                    ]
                }
            ],
            "source": [
                "import os\n",
                "import sys\n",
                "import numpy as np\n",
                "import pandas as pd\n",
                "import surprise\n",
                "import cornac\n",
                "\n",
                "try:\n",
                "    import pyspark\n",
                "except ImportError:\n",
                "    pass  # skip this import if we are not in a Spark environment\n",
                "\n",
                "try:\n",
                "    import tensorflow as tf # NOTE: TF needs to be imported before PyTorch, otherwise we get an error\n",
                "    tf.get_logger().setLevel('ERROR') # only show error messages\n",
                "    import torch\n",
                "    import fastai\n",
                "except ImportError:\n",
                "    pass  # skip this import if we are not in a GPU environment\n",
                "\n",
                "current_path = os.path.join(os.getcwd(), \"examples\", \"06_benchmarks\") # To execute the notebook programmatically from root folder\n",
                "sys.path.append(current_path)\n",
                "from benchmark_utils import * \n",
                "\n",
                "from recommenders.datasets import movielens\n",
                "from recommenders.utils.general_utils import get_number_processors\n",
                "from recommenders.datasets.python_splitters import python_stratified_split\n",
                "try:\n",
                "    from recommenders.utils.spark_utils import start_or_get_spark\n",
                "except ImportError:\n",
                "    pass  # skip this import if we are not in a Spark environment\n",
                "try:\n",
                "    from recommenders.utils.gpu_utils import get_cuda_version, get_cudnn_version\n",
                "    from recommenders.models.fastai.fastai_utils import hide_fastai_progress_bar\n",
                "    hide_fastai_progress_bar()\n",
                "except ImportError:\n",
                "    pass  # skip this import if we are not in a GPU environment\n",
                "from recommenders.utils.notebook_utils import store_metadata\n",
                "\n",
                "\n",
                "print(f\"System version: {sys.version}\")\n",
                "print(f\"Number of cores: {get_number_processors()}\")\n",
                "print(f\"NumPy version: {np.__version__}\")\n",
                "print(f\"Pandas version: {pd.__version__}\")\n",
                "print(f\"Surprise version: {surprise.__version__}\")\n",
                "print(f\"Cornac version: {cornac.__version__}\")\n",
                "try:\n",
                "    print(f\"PySpark version: {pyspark.__version__}\")\n",
                "except NameError:\n",
                "    pass  # skip this import if we are not in a Spark environment\n",
                "try:\n",
                "    print(f\"CUDA version: {get_cuda_version()}\")\n",
                "    print(f\"CuDNN version: {get_cudnn_version()}\")\n",
                "    print(f\"TensorFlow version: {tf.__version__}\")\n",
                "    print(f\"PyTorch version: {torch.__version__}\")\n",
                "    print(f\"Fast AI version: {fastai.__version__}\")\n",
                "except NameError:\n",
                "    pass  # skip this import if we are not in a GPU environment"
            ]
        },
        {
            "cell_type": "code",
            "execution_count": 3,
            "metadata": {},
            "outputs": [
                {
                    "name": "stderr",
                    "output_type": "stream",
                    "text": [
                        "your 131072x1 screen size is bogus. expect trouble\n",
                        "25/04/01 19:59:27 WARN Utils: Your hostname, miguel resolves to a loopback address: 127.0.1.1; using 10.255.255.254 instead (on interface lo)\n",
                        "25/04/01 19:59:27 WARN Utils: Set SPARK_LOCAL_IP if you need to bind to another address\n",
                        "Setting default log level to \"WARN\".\n",
                        "To adjust logging level use sc.setLogLevel(newLevel). For SparkR, use setLogLevel(newLevel).\n",
                        "25/04/01 19:59:28 WARN NativeCodeLoader: Unable to load native-hadoop library for your platform... using builtin-java classes where applicable\n"
                    ]
                }
            ],
            "source": [
                "try:\n",
                "    spark = start_or_get_spark(\"PySpark\", memory=\"32g\")\n",
                "    spark.conf.set(\"spark.sql.analyzer.failAmbiguousSelfJoin\", \"false\")\n",
                "except NameError:\n",
                "    pass  # skip this import if we are not in a Spark environment"
            ]
        },
        {
            "cell_type": "code",
            "execution_count": 4,
            "metadata": {},
            "outputs": [],
            "source": [
                "# fix random seeds to make sure out runs are reproducible\n",
                "np.random.seed(SEED)\n",
                "try:\n",
                "    tf.random.set_seed(SEED)\n",
                "    torch.manual_seed(SEED)\n",
                "    torch.cuda.manual_seed_all(SEED)\n",
                "except NameError:\n",
                "    pass  # skip this import if we are not in a GPU environment"
            ]
        },
        {
            "cell_type": "markdown",
            "metadata": {},
            "source": [
                "## Parameters"
            ]
        },
        {
            "cell_type": "code",
            "execution_count": 5,
            "metadata": {
                "tags": [
                    "parameters"
                ]
            },
            "outputs": [],
            "source": [
                "data_sizes = [\"100k\", \"1m\"] # Movielens data size: 100k, 1m, 10m, or 20m\n",
                "algorithms = [\"als\", \"svd\", \"sar\", \"ncf\", \"fastai\", \"bpr\", \"bivae\", \"lightgcn\"]"
            ]
        },
        {
            "cell_type": "code",
            "execution_count": 6,
            "metadata": {},
            "outputs": [],
            "source": [
                "environments = {\n",
                "    \"als\": \"pyspark\",\n",
                "    \"sar\": \"python_cpu\",\n",
                "    \"svd\": \"python_cpu\",\n",
                "    \"fastai\": \"python_gpu\",\n",
                "    \"ncf\": \"python_gpu\",\n",
                "    \"bpr\": \"python_cpu\",\n",
                "    \"bivae\": \"python_gpu\",\n",
                "    \"lightgcn\": \"python_gpu\",\n",
                "}\n",
                "\n",
                "metrics = {\n",
                "    \"als\": [\"rating\", \"ranking\"],\n",
                "    \"sar\": [\"ranking\"],\n",
                "    \"svd\": [\"rating\", \"ranking\"],\n",
                "    \"fastai\": [\"rating\", \"ranking\"],\n",
                "    \"ncf\": [\"ranking\"],\n",
                "    \"bpr\": [\"ranking\"],\n",
                "    \"bivae\": [\"ranking\"],\n",
                "    \"lightgcn\": [\"ranking\"]\n",
                "}"
            ]
        },
        {
            "cell_type": "markdown",
            "metadata": {},
            "source": [
                "Algorithm parameters"
            ]
        },
        {
            "cell_type": "code",
            "execution_count": 7,
            "metadata": {},
            "outputs": [],
            "source": [
                "als_params = {\n",
                "    \"rank\": 10,\n",
                "    \"maxIter\": 20,\n",
                "    \"implicitPrefs\": False,\n",
                "    \"alpha\": 0.1,\n",
                "    \"regParam\": 0.05,\n",
                "    \"coldStartStrategy\": \"drop\",\n",
                "    \"nonnegative\": False,\n",
                "    \"userCol\": DEFAULT_USER_COL,\n",
                "    \"itemCol\": DEFAULT_ITEM_COL,\n",
                "    \"ratingCol\": DEFAULT_RATING_COL,\n",
                "}\n",
                "\n",
                "sar_params = {\n",
                "    \"similarity_type\": \"jaccard\",\n",
                "    \"time_decay_coefficient\": 30,\n",
                "    \"time_now\": None,\n",
                "    \"timedecay_formula\": True,\n",
                "    \"col_user\": DEFAULT_USER_COL,\n",
                "    \"col_item\": DEFAULT_ITEM_COL,\n",
                "    \"col_rating\": DEFAULT_RATING_COL,\n",
                "    \"col_timestamp\": DEFAULT_TIMESTAMP_COL,\n",
                "}\n",
                "\n",
                "svd_params = {\n",
                "    \"n_factors\": 150,\n",
                "    \"n_epochs\": 15,\n",
                "    \"lr_all\": 0.005,\n",
                "    \"reg_all\": 0.02,\n",
                "    \"random_state\": SEED,\n",
                "    \"verbose\": False\n",
                "}\n",
                "\n",
                "fastai_params = {\n",
                "    \"n_factors\": 40, \n",
                "    \"y_range\": [0,5.5], \n",
                "    \"wd\": 1e-1,\n",
                "    \"lr_max\": 5e-3,\n",
                "    \"epochs\": 15\n",
                "}\n",
                "\n",
                "ncf_params = {\n",
                "    \"model_type\": \"NeuMF\",\n",
                "    \"n_factors\": 4,\n",
                "    \"layer_sizes\": [16, 8, 4],\n",
                "    \"n_epochs\": 15,\n",
                "    \"batch_size\": 1024,\n",
                "    \"learning_rate\": 1e-3,\n",
                "    \"verbose\": 10\n",
                "}\n",
                "\n",
                "bpr_params = {\n",
                "    \"k\": 200,\n",
                "    \"max_iter\": 200,\n",
                "    \"learning_rate\": 0.01,\n",
                "    \"lambda_reg\": 1e-3,\n",
                "    \"seed\": SEED,\n",
                "    \"verbose\": False\n",
                "}\n",
                "\n",
                "bivae_params = {\n",
                "    \"k\": 100,\n",
                "    \"encoder_structure\": [200],\n",
                "    \"act_fn\": \"tanh\",\n",
                "    \"likelihood\": \"pois\",\n",
                "    \"n_epochs\": 500,\n",
                "    \"batch_size\": 1024,\n",
                "    \"learning_rate\": 0.001,\n",
                "    \"seed\": SEED,\n",
                "    \"use_gpu\": True,\n",
                "    \"verbose\": False\n",
                "}\n",
                "\n",
                "lightgcn_param = {\n",
                "    \"model_type\": \"lightgcn\",\n",
                "    \"n_layers\": 3,\n",
                "    \"batch_size\": 1024,\n",
                "    \"embed_size\": 64,\n",
                "    \"decay\": 0.0001,\n",
                "    \"epochs\": 20,\n",
                "    \"learning_rate\": 0.005,\n",
                "    \"eval_epoch\": 5,\n",
                "    \"top_k\": DEFAULT_K,\n",
                "    \"metrics\": [\"recall\", \"ndcg\", \"precision\", \"map\"],\n",
                "    \"save_model\":False,\n",
                "    \"MODEL_DIR\":\".\",\n",
                "}\n",
                "\n",
                "params = {\n",
                "    \"als\": als_params,\n",
                "    \"sar\": sar_params,\n",
                "    \"svd\": svd_params,\n",
                "    \"fastai\": fastai_params,\n",
                "    \"ncf\": ncf_params,\n",
                "    \"bpr\": bpr_params,\n",
                "    \"bivae\": bivae_params,\n",
                "    \"lightgcn\": lightgcn_param,\n",
                "}"
            ]
        },
        {
            "cell_type": "code",
            "execution_count": 8,
            "metadata": {},
            "outputs": [],
            "source": [
                "prepare_training_data = {\n",
                "    \"als\": prepare_training_als,\n",
                "    \"sar\": prepare_training_sar,\n",
                "    \"svd\": prepare_training_svd,\n",
                "    \"fastai\": prepare_training_fastai,\n",
                "    \"ncf\": prepare_training_ncf,\n",
                "    \"bpr\": prepare_training_cornac,\n",
                "    \"bivae\": prepare_training_cornac,\n",
                "    \"lightgcn\": prepare_training_lightgcn,\n",
                "}"
            ]
        },
        {
            "cell_type": "code",
            "execution_count": 9,
            "metadata": {},
            "outputs": [],
            "source": [
                "prepare_metrics_data = {\n",
                "    \"als\": lambda train, test: prepare_metrics_als(train, test),\n",
                "    \"fastai\": lambda train, test: prepare_metrics_fastai(train, test),    \n",
                "}"
            ]
        },
        {
            "cell_type": "code",
            "execution_count": 10,
            "metadata": {},
            "outputs": [],
            "source": [
                "trainer = {\n",
                "    \"als\": lambda params, data: train_als(params, data),\n",
                "    \"svd\": lambda params, data: train_svd(params, data),\n",
                "    \"sar\": lambda params, data: train_sar(params, data), \n",
                "    \"fastai\": lambda params, data: train_fastai(params, data),\n",
                "    \"ncf\": lambda params, data: train_ncf(params, data),\n",
                "    \"bpr\": lambda params, data: train_bpr(params, data),\n",
                "    \"bivae\": lambda params, data: train_bivae(params, data),\n",
                "    \"lightgcn\": lambda params, data: train_lightgcn(params, data),\n",
                "}"
            ]
        },
        {
            "cell_type": "code",
            "execution_count": 11,
            "metadata": {},
            "outputs": [],
            "source": [
                "rating_predictor = {\n",
                "    \"als\": lambda model, test: predict_als(model, test),\n",
                "    \"svd\": lambda model, test: predict_svd(model, test),\n",
                "    \"fastai\": lambda model, test: predict_fastai(model, test),\n",
                "}"
            ]
        },
        {
            "cell_type": "code",
            "execution_count": 12,
            "metadata": {},
            "outputs": [],
            "source": [
                "ranking_predictor = {\n",
                "    \"als\": lambda model, test, train: recommend_k_als(model, test, train),\n",
                "    \"sar\": lambda model, test, train: recommend_k_sar(model, test, train),\n",
                "    \"svd\": lambda model, test, train: recommend_k_svd(model, test, train),\n",
                "    \"fastai\": lambda model, test, train: recommend_k_fastai(model, test, train),\n",
                "    \"ncf\": lambda model, test, train: recommend_k_ncf(model, test, train),\n",
                "    \"bpr\": lambda model, test, train: recommend_k_cornac(model, test, train),\n",
                "    \"bivae\": lambda model, test, train: recommend_k_cornac(model, test, train),\n",
                "    \"lightgcn\": lambda model, test, train: recommend_k_lightgcn(model, test, train),\n",
                "}"
            ]
        },
        {
            "cell_type": "code",
            "execution_count": 13,
            "metadata": {},
            "outputs": [],
            "source": [
                "rating_evaluator = {\n",
                "    \"als\": lambda test, predictions: rating_metrics_pyspark(test, predictions),\n",
                "    \"svd\": lambda test, predictions: rating_metrics_python(test, predictions),\n",
                "    \"fastai\": lambda test, predictions: rating_metrics_python(test, predictions)\n",
                "}\n",
                "    \n",
                "    \n",
                "ranking_evaluator = {\n",
                "    \"als\": lambda test, predictions, k: ranking_metrics_pyspark(test, predictions, k),\n",
                "    \"sar\": lambda test, predictions, k: ranking_metrics_python(test, predictions, k),\n",
                "    \"svd\": lambda test, predictions, k: ranking_metrics_python(test, predictions, k),\n",
                "    \"fastai\": lambda test, predictions, k: ranking_metrics_python(test, predictions, k),\n",
                "    \"ncf\": lambda test, predictions, k: ranking_metrics_python(test, predictions, k),\n",
                "    \"bpr\": lambda test, predictions, k: ranking_metrics_python(test, predictions, k),\n",
                "    \"bivae\": lambda test, predictions, k: ranking_metrics_python(test, predictions, k),\n",
                "    \"lightgcn\": lambda test, predictions, k: ranking_metrics_python(test, predictions, k),\n",
                "}"
            ]
        },
        {
            "cell_type": "code",
            "execution_count": 14,
            "metadata": {},
            "outputs": [],
            "source": [
                "def generate_summary(data, algo, k, train_time, time_rating, rating_metrics, time_ranking, ranking_metrics):\n",
                "    summary = {\"Data\": data, \"Algo\": algo, \"K\": k, \"Train time (s)\": train_time, \"Predicting time (s)\": time_rating, \"Recommending time (s)\": time_ranking}\n",
                "    if rating_metrics is None:\n",
                "        rating_metrics = {\n",
                "            \"RMSE\": np.nan,\n",
                "            \"MAE\": np.nan,\n",
                "            \"R2\": np.nan,\n",
                "            \"Explained Variance\": np.nan,\n",
                "        }\n",
                "    if ranking_metrics is None:\n",
                "        ranking_metrics = {\n",
                "            \"MAP\": np.nan,\n",
                "            \"nDCG@k\": np.nan,\n",
                "            \"Precision@k\": np.nan,\n",
                "            \"Recall@k\": np.nan,\n",
                "        }\n",
                "    summary.update(rating_metrics)\n",
                "    summary.update(ranking_metrics)\n",
                "    return summary"
            ]
        },
        {
            "cell_type": "markdown",
            "metadata": {},
            "source": [
                "## Benchmark loop"
            ]
        },
        {
            "cell_type": "code",
            "execution_count": null,
            "metadata": {
                "scrolled": true
            },
            "outputs": [
                {
                    "name": "stderr",
                    "output_type": "stream",
                    "text": [
                        "100%|██████████| 4.81k/4.81k [00:01<00:00, 2.64kKB/s]\n"
                    ]
                },
                {
                    "name": "stdout",
                    "output_type": "stream",
                    "text": [
                        "Size of Movielens 100k: (100000, 4)\n",
                        "\n",
                        "Computing als algorithm on Movielens 100k\n"
                    ]
                },
                {
                    "name": "stderr",
                    "output_type": "stream",
                    "text": [
                        "25/04/01 19:59:35 WARN SparkSession: Using an existing Spark session; only runtime SQL configurations will take effect.\n",
                        "25/04/01 19:59:45 WARN InstanceBuilder: Failed to load implementation from:dev.ludovic.netlib.blas.JNIBLAS\n",
                        "25/04/01 19:59:45 WARN InstanceBuilder: Failed to load implementation from:dev.ludovic.netlib.lapack.JNILAPACK\n"
                    ]
                },
                {
                    "name": "stdout",
                    "output_type": "stream",
                    "text": [
                        "Training time: 12.7307s\n",
                        "Rating prediction time: 0.1026s\n"
                    ]
                },
                {
                    "name": "stderr",
                    "output_type": "stream",
                    "text": [
                        "25/04/01 19:59:57 WARN Column: Constructing trivially true equals predicate, 'userID#223 = userID#223'. Perhaps you need to use aliases.\n"
                    ]
                },
                {
                    "name": "stdout",
                    "output_type": "stream",
                    "text": [
                        "Ranking prediction time: 0.1651s\n"
                    ]
                },
                {
                    "name": "stderr",
                    "output_type": "stream",
                    "text": [
                        "                                                                                \r"
                    ]
                },
                {
                    "name": "stdout",
                    "output_type": "stream",
                    "text": [
                        "\n",
                        "Computing svd algorithm on Movielens 100k\n",
                        "Training time: 0.8793s\n",
                        "Rating prediction time: 0.1421s\n",
                        "Ranking prediction time: 12.0364s\n",
                        "\n",
                        "Computing sar algorithm on Movielens 100k\n",
                        "Training time: 0.2573s\n",
                        "Ranking prediction time: 0.1648s\n",
                        "\n",
                        "Computing ncf algorithm on Movielens 100k\n",
                        "Training time: 135.6690s\n",
                        "Ranking prediction time: 10.2591s\n",
                        "\n",
                        "Computing fastai algorithm on Movielens 100k\n",
                        "Training time: 173.3713s\n",
                        "Rating prediction time: 0.0380s\n",
                        "Ranking prediction time: 2.6567s\n",
                        "\n",
                        "Computing bpr algorithm on Movielens 100k\n",
                        "Training time: 6.9627s\n",
                        "Ranking prediction time: 1.8821s\n",
                        "\n",
                        "Computing bivae algorithm on Movielens 100k\n",
                        "Training time: 31.1033s\n",
                        "Ranking prediction time: 1.6785s\n",
                        "\n",
                        "Computing lightgcn algorithm on Movielens 100k\n",
                        "Already create adjacency matrix.\n",
                        "Already normalize adjacency matrix.\n",
                        "Using xavier initialization.\n",
                        "Epoch 1 (train)3.1s: train loss = 0.47553 = (mf)0.47528 + (embed)0.00024\n",
                        "Epoch 2 (train)1.0s: train loss = 0.27730 = (mf)0.27662 + (embed)0.00068\n",
                        "Epoch 3 (train)1.2s: train loss = 0.24446 = (mf)0.24358 + (embed)0.00088\n",
                        "Epoch 4 (train)1.4s: train loss = 0.23453 = (mf)0.23349 + (embed)0.00104\n",
                        "Epoch 5 (train)1.3s + (eval)0.5s: train loss = 0.22598 = (mf)0.22483 + (embed)0.00116, recall = 0.15936, ndcg = 0.34712, precision = 0.30021, map = 0.21686\n",
                        "Epoch 6 (train)1.1s: train loss = 0.21865 = (mf)0.21740 + (embed)0.00125\n",
                        "Epoch 7 (train)1.3s: train loss = 0.21665 = (mf)0.21530 + (embed)0.00135\n",
                        "Epoch 8 (train)1.3s: train loss = 0.20283 = (mf)0.20136 + (embed)0.00147\n",
                        "Epoch 9 (train)1.1s: train loss = 0.19146 = (mf)0.18985 + (embed)0.00161\n",
                        "Epoch 10 (train)1.3s + (eval)0.2s: train loss = 0.18182 = (mf)0.18005 + (embed)0.00176, recall = 0.17861, ndcg = 0.38471, precision = 0.33542, map = 0.24869\n",
                        "Epoch 11 (train)1.4s: train loss = 0.17702 = (mf)0.17511 + (embed)0.00191\n",
                        "Epoch 12 (train)1.3s: train loss = 0.17048 = (mf)0.16843 + (embed)0.00205\n",
                        "Epoch 13 (train)1.1s: train loss = 0.16605 = (mf)0.16388 + (embed)0.00217\n",
                        "Epoch 14 (train)1.2s: train loss = 0.16374 = (mf)0.16146 + (embed)0.00228\n",
                        "Epoch 15 (train)1.4s + (eval)0.2s: train loss = 0.16430 = (mf)0.16192 + (embed)0.00238, recall = 0.19063, ndcg = 0.40784, precision = 0.35175, map = 0.26840\n",
                        "Epoch 16 (train)1.3s: train loss = 0.15995 = (mf)0.15747 + (embed)0.00248\n",
                        "Epoch 17 (train)1.1s: train loss = 0.15818 = (mf)0.15561 + (embed)0.00257\n",
                        "Epoch 18 (train)1.2s: train loss = 0.15755 = (mf)0.15489 + (embed)0.00266\n",
                        "Epoch 19 (train)1.4s: train loss = 0.15311 = (mf)0.15034 + (embed)0.00277\n",
                        "Epoch 20 (train)1.3s + (eval)0.4s: train loss = 0.15209 = (mf)0.14923 + (embed)0.00287, recall = 0.19817, ndcg = 0.41719, precision = 0.36278, map = 0.27528\n",
                        "Training time: 28.1226s\n",
                        "Ranking prediction time: 0.0429s\n"
                    ]
                },
                {
                    "name": "stderr",
                    "output_type": "stream",
                    "text": [
                        "100%|██████████| 5.78k/5.78k [01:03<00:00, 90.4KB/s]\n"
                    ]
                },
                {
                    "name": "stdout",
                    "output_type": "stream",
                    "text": [
                        "Size of Movielens 1m: (1000209, 4)\n",
                        "\n",
                        "Computing als algorithm on Movielens 1m\n"
                    ]
                },
                {
                    "name": "stderr",
                    "output_type": "stream",
                    "text": [
                        "25/04/01 20:08:59 WARN TaskSetManager: Stage 522 contains a task of very large size (2050 KiB). The maximum recommended task size is 1000 KiB.\n",
                        "25/04/01 20:09:00 WARN TaskSetManager: Stage 523 contains a task of very large size (2050 KiB). The maximum recommended task size is 1000 KiB.\n",
                        "25/04/01 20:09:00 WARN TaskSetManager: Stage 524 contains a task of very large size (2050 KiB). The maximum recommended task size is 1000 KiB.\n",
                        "                                                                                \r"
                    ]
                },
                {
                    "name": "stdout",
                    "output_type": "stream",
                    "text": [
                        "Training time: 11.3619s\n",
                        "Rating prediction time: 0.0394s\n"
                    ]
                },
                {
                    "name": "stderr",
                    "output_type": "stream",
                    "text": [
                        "25/04/01 20:09:21 WARN Column: Constructing trivially true equals predicate, 'userID#2252 = userID#2252'. Perhaps you need to use aliases.\n"
                    ]
                },
                {
                    "name": "stdout",
                    "output_type": "stream",
                    "text": [
                        "Ranking prediction time: 0.1009s\n"
                    ]
                },
                {
                    "name": "stderr",
                    "output_type": "stream",
                    "text": [
                        "25/04/01 20:09:21 WARN TaskSetManager: Stage 847 contains a task of very large size (2050 KiB). The maximum recommended task size is 1000 KiB.\n",
                        "25/04/01 20:09:22 WARN TaskSetManager: Stage 848 contains a task of very large size (2050 KiB). The maximum recommended task size is 1000 KiB.\n",
                        "25/04/01 20:09:23 WARN TaskSetManager: Stage 894 contains a task of very large size (2050 KiB). The maximum recommended task size is 1000 KiB.\n",
                        "25/04/01 20:09:23 WARN TaskSetManager: Stage 896 contains a task of very large size (2050 KiB). The maximum recommended task size is 1000 KiB.\n",
                        "25/04/01 20:09:23 WARN TaskSetManager: Stage 897 contains a task of very large size (2050 KiB). The maximum recommended task size is 1000 KiB.\n",
                        "25/04/01 20:09:23 WARN TaskSetManager: Stage 901 contains a task of very large size (2050 KiB). The maximum recommended task size is 1000 KiB.\n",
                        "                                                                                \r"
                    ]
                },
                {
                    "name": "stdout",
                    "output_type": "stream",
                    "text": [
                        "\n",
                        "Computing svd algorithm on Movielens 1m\n",
                        "Training time: 12.2986s\n",
                        "Rating prediction time: 1.7479s\n",
                        "Ranking prediction time: 387.5224s\n",
                        "\n",
                        "Computing sar algorithm on Movielens 1m\n",
                        "Training time: 4.2627s\n",
                        "Ranking prediction time: 3.8707s\n",
                        "\n",
                        "Computing ncf algorithm on Movielens 1m\n",
                        "Training time: 1397.0044s\n",
                        "Ranking prediction time: 121.8742s\n",
                        "\n",
                        "Computing fastai algorithm on Movielens 1m\n",
                        "Training time: 1876.4734s\n",
                        "Rating prediction time: 0.3552s\n",
                        "Ranking prediction time: 65.8920s\n",
                        "\n",
                        "Computing bpr algorithm on Movielens 1m\n",
                        "Training time: 96.8687s\n",
                        "Ranking prediction time: 28.3043s\n",
                        "\n",
                        "Computing bivae algorithm on Movielens 1m\n",
                        "Training time: 201.3270s\n",
                        "Ranking prediction time: 29.5007s\n",
                        "\n",
                        "Computing lightgcn algorithm on Movielens 1m\n",
                        "Already create adjacency matrix.\n",
                        "Already normalize adjacency matrix.\n",
                        "Using xavier initialization.\n"
                    ]
                }
            ],
            "source": [
                "%%time\n",
                "\n",
                "# For each data size and each algorithm, a recommender is evaluated. \n",
                "cols = [\"Data\", \"Algo\", \"K\", \"Train time (s)\", \"Predicting time (s)\", \"RMSE\", \"MAE\", \"R2\", \"Explained Variance\", \"Recommending time (s)\", \"MAP\", \"nDCG@k\", \"Precision@k\", \"Recall@k\"]\n",
                "df_results = pd.DataFrame(columns=cols)\n",
                "\n",
                "for data_size in data_sizes:\n",
                "    # Load the dataset\n",
                "    df = movielens.load_pandas_df(\n",
                "        size=data_size,\n",
                "        header=[DEFAULT_USER_COL, DEFAULT_ITEM_COL, DEFAULT_RATING_COL, DEFAULT_TIMESTAMP_COL]\n",
                "    )\n",
                "    print(\"Size of Movielens {}: {}\".format(data_size, df.shape))\n",
                "    \n",
                "    # Split the dataset\n",
                "    df_train, df_test = python_stratified_split(df,\n",
                "                                                ratio=0.75, \n",
                "                                                min_rating=1, \n",
                "                                                filter_by=\"item\", \n",
                "                                                col_user=DEFAULT_USER_COL, \n",
                "                                                col_item=DEFAULT_ITEM_COL\n",
                "                                                )\n",
                "   \n",
                "    # Loop through the algos\n",
                "    for algo in algorithms:\n",
                "        print(f\"\\nComputing {algo} algorithm on Movielens {data_size}\")\n",
                "          \n",
                "        # Data prep for training set\n",
                "        train = prepare_training_data.get(algo, lambda x,y:(x,y))(df_train, df_test)\n",
                "        \n",
                "        # Get model parameters\n",
                "        model_params = params[algo]\n",
                "          \n",
                "        # Train the model\n",
                "        model, time_train = trainer[algo](model_params, train)\n",
                "        print(f\"Training time: {time_train}s\")\n",
                "                \n",
                "        # Predict and evaluate\n",
                "        train, test = prepare_metrics_data.get(algo, lambda x,y:(x,y))(df_train, df_test)\n",
                "        \n",
                "        if \"rating\" in metrics[algo]:   \n",
                "            # Predict for rating\n",
                "            preds, time_rating = rating_predictor[algo](model, test)\n",
                "            print(f\"Rating prediction time: {time_rating}s\")\n",
                "            \n",
                "            # Evaluate for rating\n",
                "            ratings = rating_evaluator[algo](test, preds)\n",
                "        else:\n",
                "            ratings = None\n",
                "            time_rating = np.nan\n",
                "        \n",
                "        if \"ranking\" in metrics[algo]:\n",
                "            # Predict for ranking\n",
                "            top_k_scores, time_ranking = ranking_predictor[algo](model, test, train)\n",
                "            print(f\"Ranking prediction time: {time_ranking}s\")\n",
                "            \n",
                "            # Evaluate for rating\n",
                "            rankings = ranking_evaluator[algo](test, top_k_scores, DEFAULT_K)\n",
                "        else:\n",
                "            rankings = None\n",
                "            time_ranking = np.nan\n",
                "            \n",
                "        # Record results\n",
                "        summary = generate_summary(data_size, algo, DEFAULT_K, time_train, time_rating, ratings, time_ranking, rankings)\n",
                "        df_results.loc[df_results.shape[0] + 1] = summary\n",
                "        \n",
                "print(\"\\nComputation finished\")\n"
            ]
        },
        {
            "cell_type": "markdown",
            "metadata": {},
            "source": [
                "## Results"
            ]
        },
        {
            "cell_type": "code",
            "execution_count": null,
            "metadata": {},
            "outputs": [],
            "source": [
                "df_results"
            ]
        },
        {
            "cell_type": "code",
            "execution_count": null,
            "metadata": {},
            "outputs": [],
            "source": [
                "# Record results for tests - ignore this cell\n",
                "for algo in algorithms:\n",
                "    store_metadata(algo, df_results.loc[df_results[\"Algo\"] == algo, \"nDCG@k\"].values[0])\n"
            ]
        }
    ],
    "metadata": {
        "kernelspec": {
            "display_name": "recommenders311",
            "language": "python",
            "name": "python3"
        },
        "language_info": {
            "codemirror_mode": {
                "name": "ipython",
                "version": 3
            },
            "file_extension": ".py",
            "mimetype": "text/x-python",
            "name": "python",
            "nbconvert_exporter": "python",
            "pygments_lexer": "ipython3",
            "version": "3.11.9"
        }
    },
    "nbformat": 4,
    "nbformat_minor": 4
}
